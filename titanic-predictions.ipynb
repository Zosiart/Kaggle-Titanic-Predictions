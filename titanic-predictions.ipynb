{
 "cells": [
  {
   "cell_type": "code",
   "execution_count": 1,
   "id": "ebb687b3",
   "metadata": {
    "_cell_guid": "b1076dfc-b9ad-4769-8c92-a6c4dae69d19",
    "_uuid": "8f2839f25d086af736a60e9eeb907d3b93b6e0e5",
    "execution": {
     "iopub.execute_input": "2023-06-01T17:30:42.796853Z",
     "iopub.status.busy": "2023-06-01T17:30:42.796229Z",
     "iopub.status.idle": "2023-06-01T17:30:44.345035Z",
     "shell.execute_reply": "2023-06-01T17:30:44.343915Z"
    },
    "papermill": {
     "duration": 1.558973,
     "end_time": "2023-06-01T17:30:44.347569",
     "exception": false,
     "start_time": "2023-06-01T17:30:42.788596",
     "status": "completed"
    },
    "tags": []
   },
   "outputs": [
    {
     "name": "stdout",
     "output_type": "stream",
     "text": [
      "/kaggle/input/titanic/train.csv\n",
      "/kaggle/input/titanic/test.csv\n",
      "/kaggle/input/titanic/gender_submission.csv\n"
     ]
    }
   ],
   "source": [
    "# This Python 3 environment comes with many helpful analytics libraries installed\n",
    "# It is defined by the kaggle/python Docker image: https://github.com/kaggle/docker-python\n",
    "# For example, here's several helpful packages to load\n",
    "\n",
    "import numpy as np # linear algebra\n",
    "import pandas as pd # data processing, CSV file I/O (e.g. pd.read_csv)\n",
    "from sklearn.neural_network import MLPClassifier\n",
    "from sklearn.model_selection import train_test_split\n",
    "from sklearn.metrics import r2_score\n",
    "\n",
    "# Input data files are available in the read-only \"../input/\" directory\n",
    "# For example, running this (by clicking run or pressing Shift+Enter) will list all files under the input directory\n",
    "\n",
    "import os\n",
    "for dirname, _, filenames in os.walk('/kaggle/input'):\n",
    "    for filename in filenames:\n",
    "        print(os.path.join(dirname, filename))\n",
    "\n",
    "# You can write up to 20GB to the current directory (/kaggle/working/) that gets preserved as output when you create a version using \"Save & Run All\" \n",
    "# You can also write temporary files to /kaggle/temp/, but they won't be saved outside of the current session"
   ]
  },
  {
   "cell_type": "code",
   "execution_count": 2,
   "id": "46f8aa44",
   "metadata": {
    "execution": {
     "iopub.execute_input": "2023-06-01T17:30:44.359844Z",
     "iopub.status.busy": "2023-06-01T17:30:44.359416Z",
     "iopub.status.idle": "2023-06-01T17:30:44.421334Z",
     "shell.execute_reply": "2023-06-01T17:30:44.420182Z"
    },
    "papermill": {
     "duration": 0.071117,
     "end_time": "2023-06-01T17:30:44.424064",
     "exception": false,
     "start_time": "2023-06-01T17:30:44.352947",
     "status": "completed"
    },
    "tags": []
   },
   "outputs": [
    {
     "data": {
      "text/html": [
       "<div>\n",
       "<style scoped>\n",
       "    .dataframe tbody tr th:only-of-type {\n",
       "        vertical-align: middle;\n",
       "    }\n",
       "\n",
       "    .dataframe tbody tr th {\n",
       "        vertical-align: top;\n",
       "    }\n",
       "\n",
       "    .dataframe thead th {\n",
       "        text-align: right;\n",
       "    }\n",
       "</style>\n",
       "<table border=\"1\" class=\"dataframe\">\n",
       "  <thead>\n",
       "    <tr style=\"text-align: right;\">\n",
       "      <th></th>\n",
       "      <th>PassengerId</th>\n",
       "      <th>Survived</th>\n",
       "      <th>Pclass</th>\n",
       "      <th>Name</th>\n",
       "      <th>Sex</th>\n",
       "      <th>Age</th>\n",
       "      <th>SibSp</th>\n",
       "      <th>Parch</th>\n",
       "      <th>Ticket</th>\n",
       "      <th>Fare</th>\n",
       "      <th>Cabin</th>\n",
       "      <th>Embarked</th>\n",
       "    </tr>\n",
       "  </thead>\n",
       "  <tbody>\n",
       "    <tr>\n",
       "      <th>0</th>\n",
       "      <td>1</td>\n",
       "      <td>0</td>\n",
       "      <td>3</td>\n",
       "      <td>Braund, Mr. Owen Harris</td>\n",
       "      <td>male</td>\n",
       "      <td>22.0</td>\n",
       "      <td>1</td>\n",
       "      <td>0</td>\n",
       "      <td>A/5 21171</td>\n",
       "      <td>7.2500</td>\n",
       "      <td>NaN</td>\n",
       "      <td>S</td>\n",
       "    </tr>\n",
       "    <tr>\n",
       "      <th>1</th>\n",
       "      <td>2</td>\n",
       "      <td>1</td>\n",
       "      <td>1</td>\n",
       "      <td>Cumings, Mrs. John Bradley (Florence Briggs Th...</td>\n",
       "      <td>female</td>\n",
       "      <td>38.0</td>\n",
       "      <td>1</td>\n",
       "      <td>0</td>\n",
       "      <td>PC 17599</td>\n",
       "      <td>71.2833</td>\n",
       "      <td>C85</td>\n",
       "      <td>C</td>\n",
       "    </tr>\n",
       "    <tr>\n",
       "      <th>2</th>\n",
       "      <td>3</td>\n",
       "      <td>1</td>\n",
       "      <td>3</td>\n",
       "      <td>Heikkinen, Miss. Laina</td>\n",
       "      <td>female</td>\n",
       "      <td>26.0</td>\n",
       "      <td>0</td>\n",
       "      <td>0</td>\n",
       "      <td>STON/O2. 3101282</td>\n",
       "      <td>7.9250</td>\n",
       "      <td>NaN</td>\n",
       "      <td>S</td>\n",
       "    </tr>\n",
       "    <tr>\n",
       "      <th>3</th>\n",
       "      <td>4</td>\n",
       "      <td>1</td>\n",
       "      <td>1</td>\n",
       "      <td>Futrelle, Mrs. Jacques Heath (Lily May Peel)</td>\n",
       "      <td>female</td>\n",
       "      <td>35.0</td>\n",
       "      <td>1</td>\n",
       "      <td>0</td>\n",
       "      <td>113803</td>\n",
       "      <td>53.1000</td>\n",
       "      <td>C123</td>\n",
       "      <td>S</td>\n",
       "    </tr>\n",
       "    <tr>\n",
       "      <th>4</th>\n",
       "      <td>5</td>\n",
       "      <td>0</td>\n",
       "      <td>3</td>\n",
       "      <td>Allen, Mr. William Henry</td>\n",
       "      <td>male</td>\n",
       "      <td>35.0</td>\n",
       "      <td>0</td>\n",
       "      <td>0</td>\n",
       "      <td>373450</td>\n",
       "      <td>8.0500</td>\n",
       "      <td>NaN</td>\n",
       "      <td>S</td>\n",
       "    </tr>\n",
       "  </tbody>\n",
       "</table>\n",
       "</div>"
      ],
      "text/plain": [
       "   PassengerId  Survived  Pclass  \\\n",
       "0            1         0       3   \n",
       "1            2         1       1   \n",
       "2            3         1       3   \n",
       "3            4         1       1   \n",
       "4            5         0       3   \n",
       "\n",
       "                                                Name     Sex   Age  SibSp  \\\n",
       "0                            Braund, Mr. Owen Harris    male  22.0      1   \n",
       "1  Cumings, Mrs. John Bradley (Florence Briggs Th...  female  38.0      1   \n",
       "2                             Heikkinen, Miss. Laina  female  26.0      0   \n",
       "3       Futrelle, Mrs. Jacques Heath (Lily May Peel)  female  35.0      1   \n",
       "4                           Allen, Mr. William Henry    male  35.0      0   \n",
       "\n",
       "   Parch            Ticket     Fare Cabin Embarked  \n",
       "0      0         A/5 21171   7.2500   NaN        S  \n",
       "1      0          PC 17599  71.2833   C85        C  \n",
       "2      0  STON/O2. 3101282   7.9250   NaN        S  \n",
       "3      0            113803  53.1000  C123        S  \n",
       "4      0            373450   8.0500   NaN        S  "
      ]
     },
     "execution_count": 2,
     "metadata": {},
     "output_type": "execute_result"
    }
   ],
   "source": [
    "train_data = pd.read_csv(\"/kaggle/input/titanic/train.csv\")\n",
    "train_data.head()"
   ]
  },
  {
   "cell_type": "code",
   "execution_count": 3,
   "id": "c34c74ca",
   "metadata": {
    "execution": {
     "iopub.execute_input": "2023-06-01T17:30:44.436912Z",
     "iopub.status.busy": "2023-06-01T17:30:44.436537Z",
     "iopub.status.idle": "2023-06-01T17:30:44.449911Z",
     "shell.execute_reply": "2023-06-01T17:30:44.448625Z"
    },
    "papermill": {
     "duration": 0.02269,
     "end_time": "2023-06-01T17:30:44.452405",
     "exception": false,
     "start_time": "2023-06-01T17:30:44.429715",
     "status": "completed"
    },
    "tags": []
   },
   "outputs": [
    {
     "name": "stdout",
     "output_type": "stream",
     "text": [
      "(418, 11)\n"
     ]
    }
   ],
   "source": [
    "test_data = pd.read_csv(\"/kaggle/input/titanic/test.csv\")\n",
    "print(test_data.shape)"
   ]
  },
  {
   "cell_type": "code",
   "execution_count": 4,
   "id": "9ba4e7c8",
   "metadata": {
    "execution": {
     "iopub.execute_input": "2023-06-01T17:30:44.465574Z",
     "iopub.status.busy": "2023-06-01T17:30:44.465204Z",
     "iopub.status.idle": "2023-06-01T17:30:44.480698Z",
     "shell.execute_reply": "2023-06-01T17:30:44.479663Z"
    },
    "papermill": {
     "duration": 0.025175,
     "end_time": "2023-06-01T17:30:44.483371",
     "exception": false,
     "start_time": "2023-06-01T17:30:44.458196",
     "status": "completed"
    },
    "tags": []
   },
   "outputs": [
    {
     "name": "stdout",
     "output_type": "stream",
     "text": [
      "% of women who survived: 0.7420382165605095\n"
     ]
    }
   ],
   "source": [
    "women = train_data.loc[train_data.Sex == 'female'][\"Survived\"]\n",
    "rate_women = sum(women)/len(women)\n",
    "\n",
    "print(\"% of women who survived:\", rate_women)"
   ]
  },
  {
   "cell_type": "code",
   "execution_count": 5,
   "id": "8efa4241",
   "metadata": {
    "execution": {
     "iopub.execute_input": "2023-06-01T17:30:44.496957Z",
     "iopub.status.busy": "2023-06-01T17:30:44.496523Z",
     "iopub.status.idle": "2023-06-01T17:30:44.505154Z",
     "shell.execute_reply": "2023-06-01T17:30:44.503675Z"
    },
    "papermill": {
     "duration": 0.018247,
     "end_time": "2023-06-01T17:30:44.507410",
     "exception": false,
     "start_time": "2023-06-01T17:30:44.489163",
     "status": "completed"
    },
    "tags": []
   },
   "outputs": [
    {
     "name": "stdout",
     "output_type": "stream",
     "text": [
      "% of men who survived: 0.18890814558058924\n"
     ]
    }
   ],
   "source": [
    "men = train_data.loc[train_data.Sex == 'male'][\"Survived\"]\n",
    "rate_men = sum(men)/len(men)\n",
    "\n",
    "print(\"% of men who survived:\", rate_men)"
   ]
  },
  {
   "cell_type": "code",
   "execution_count": 6,
   "id": "5b240a4a",
   "metadata": {
    "execution": {
     "iopub.execute_input": "2023-06-01T17:30:44.521868Z",
     "iopub.status.busy": "2023-06-01T17:30:44.521370Z",
     "iopub.status.idle": "2023-06-01T17:30:44.550165Z",
     "shell.execute_reply": "2023-06-01T17:30:44.549013Z"
    },
    "papermill": {
     "duration": 0.039481,
     "end_time": "2023-06-01T17:30:44.552731",
     "exception": false,
     "start_time": "2023-06-01T17:30:44.513250",
     "status": "completed"
    },
    "tags": []
   },
   "outputs": [
    {
     "data": {
      "text/html": [
       "<div>\n",
       "<style scoped>\n",
       "    .dataframe tbody tr th:only-of-type {\n",
       "        vertical-align: middle;\n",
       "    }\n",
       "\n",
       "    .dataframe tbody tr th {\n",
       "        vertical-align: top;\n",
       "    }\n",
       "\n",
       "    .dataframe thead th {\n",
       "        text-align: right;\n",
       "    }\n",
       "</style>\n",
       "<table border=\"1\" class=\"dataframe\">\n",
       "  <thead>\n",
       "    <tr style=\"text-align: right;\">\n",
       "      <th></th>\n",
       "      <th>PassengerId</th>\n",
       "      <th>Survived</th>\n",
       "      <th>Pclass</th>\n",
       "      <th>Name</th>\n",
       "      <th>Sex</th>\n",
       "      <th>Age</th>\n",
       "      <th>SibSp</th>\n",
       "      <th>Parch</th>\n",
       "      <th>Ticket</th>\n",
       "      <th>Fare</th>\n",
       "      <th>Cabin</th>\n",
       "      <th>Embarked</th>\n",
       "    </tr>\n",
       "  </thead>\n",
       "  <tbody>\n",
       "    <tr>\n",
       "      <th>0</th>\n",
       "      <td>1</td>\n",
       "      <td>0</td>\n",
       "      <td>3</td>\n",
       "      <td>Braund, Mr. Owen Harris</td>\n",
       "      <td>1</td>\n",
       "      <td>22.0</td>\n",
       "      <td>1</td>\n",
       "      <td>0</td>\n",
       "      <td>A/5 21171</td>\n",
       "      <td>7.2500</td>\n",
       "      <td>NaN</td>\n",
       "      <td>2</td>\n",
       "    </tr>\n",
       "    <tr>\n",
       "      <th>1</th>\n",
       "      <td>2</td>\n",
       "      <td>1</td>\n",
       "      <td>1</td>\n",
       "      <td>Cumings, Mrs. John Bradley (Florence Briggs Th...</td>\n",
       "      <td>0</td>\n",
       "      <td>38.0</td>\n",
       "      <td>1</td>\n",
       "      <td>0</td>\n",
       "      <td>PC 17599</td>\n",
       "      <td>71.2833</td>\n",
       "      <td>C85</td>\n",
       "      <td>0</td>\n",
       "    </tr>\n",
       "    <tr>\n",
       "      <th>2</th>\n",
       "      <td>3</td>\n",
       "      <td>1</td>\n",
       "      <td>3</td>\n",
       "      <td>Heikkinen, Miss. Laina</td>\n",
       "      <td>0</td>\n",
       "      <td>26.0</td>\n",
       "      <td>0</td>\n",
       "      <td>0</td>\n",
       "      <td>STON/O2. 3101282</td>\n",
       "      <td>7.9250</td>\n",
       "      <td>NaN</td>\n",
       "      <td>2</td>\n",
       "    </tr>\n",
       "    <tr>\n",
       "      <th>3</th>\n",
       "      <td>4</td>\n",
       "      <td>1</td>\n",
       "      <td>1</td>\n",
       "      <td>Futrelle, Mrs. Jacques Heath (Lily May Peel)</td>\n",
       "      <td>0</td>\n",
       "      <td>35.0</td>\n",
       "      <td>1</td>\n",
       "      <td>0</td>\n",
       "      <td>113803</td>\n",
       "      <td>53.1000</td>\n",
       "      <td>C123</td>\n",
       "      <td>2</td>\n",
       "    </tr>\n",
       "    <tr>\n",
       "      <th>4</th>\n",
       "      <td>5</td>\n",
       "      <td>0</td>\n",
       "      <td>3</td>\n",
       "      <td>Allen, Mr. William Henry</td>\n",
       "      <td>1</td>\n",
       "      <td>35.0</td>\n",
       "      <td>0</td>\n",
       "      <td>0</td>\n",
       "      <td>373450</td>\n",
       "      <td>8.0500</td>\n",
       "      <td>NaN</td>\n",
       "      <td>2</td>\n",
       "    </tr>\n",
       "  </tbody>\n",
       "</table>\n",
       "</div>"
      ],
      "text/plain": [
       "   PassengerId  Survived  Pclass  \\\n",
       "0            1         0       3   \n",
       "1            2         1       1   \n",
       "2            3         1       3   \n",
       "3            4         1       1   \n",
       "4            5         0       3   \n",
       "\n",
       "                                                Name  Sex   Age  SibSp  Parch  \\\n",
       "0                            Braund, Mr. Owen Harris    1  22.0      1      0   \n",
       "1  Cumings, Mrs. John Bradley (Florence Briggs Th...    0  38.0      1      0   \n",
       "2                             Heikkinen, Miss. Laina    0  26.0      0      0   \n",
       "3       Futrelle, Mrs. Jacques Heath (Lily May Peel)    0  35.0      1      0   \n",
       "4                           Allen, Mr. William Henry    1  35.0      0      0   \n",
       "\n",
       "             Ticket     Fare Cabin  Embarked  \n",
       "0         A/5 21171   7.2500   NaN         2  \n",
       "1          PC 17599  71.2833   C85         0  \n",
       "2  STON/O2. 3101282   7.9250   NaN         2  \n",
       "3            113803  53.1000  C123         2  \n",
       "4            373450   8.0500   NaN         2  "
      ]
     },
     "execution_count": 6,
     "metadata": {},
     "output_type": "execute_result"
    }
   ],
   "source": [
    "#we can jump right in to modify categories so they can be understood by the classifier\n",
    "#we also fill missing values \n",
    "from sklearn import preprocessing\n",
    "le = preprocessing.LabelEncoder()\n",
    "train_data[\"Sex\"] = le.fit_transform(train_data[\"Sex\"]) \n",
    "train_data[\"Embarked\"] = train_data[\"Embarked\"].fillna(\"S\") #fill with most common value\n",
    "train_data[\"Embarked\"] = le.fit_transform(train_data[\"Embarked\"])\n",
    "train_data[\"Age\"] = train_data[\"Age\"].fillna(train_data[\"Age\"].median()) #fill missing values with median age\n",
    "train_data.head()"
   ]
  },
  {
   "cell_type": "code",
   "execution_count": 7,
   "id": "e55f079f",
   "metadata": {
    "execution": {
     "iopub.execute_input": "2023-06-01T17:30:44.570685Z",
     "iopub.status.busy": "2023-06-01T17:30:44.570271Z",
     "iopub.status.idle": "2023-06-01T17:30:44.581016Z",
     "shell.execute_reply": "2023-06-01T17:30:44.579776Z"
    },
    "papermill": {
     "duration": 0.023081,
     "end_time": "2023-06-01T17:30:44.583506",
     "exception": false,
     "start_time": "2023-06-01T17:30:44.560425",
     "status": "completed"
    },
    "tags": []
   },
   "outputs": [],
   "source": [
    "test_data[\"Sex\"] = le.fit_transform(test_data[\"Sex\"]) \n",
    "test_data[\"Embarked\"] = test_data[\"Embarked\"].fillna(\"S\") #fill with most common value\n",
    "test_data[\"Embarked\"] = le.fit_transform(test_data[\"Embarked\"])\n",
    "test_data[\"Age\"] = test_data[\"Age\"].fillna(test_data[\"Age\"].median()) #fill missing values with median age"
   ]
  },
  {
   "cell_type": "code",
   "execution_count": 8,
   "id": "50995d26",
   "metadata": {
    "execution": {
     "iopub.execute_input": "2023-06-01T17:30:44.597417Z",
     "iopub.status.busy": "2023-06-01T17:30:44.597020Z",
     "iopub.status.idle": "2023-06-01T17:30:44.609018Z",
     "shell.execute_reply": "2023-06-01T17:30:44.608076Z"
    },
    "papermill": {
     "duration": 0.021696,
     "end_time": "2023-06-01T17:30:44.611392",
     "exception": false,
     "start_time": "2023-06-01T17:30:44.589696",
     "status": "completed"
    },
    "tags": []
   },
   "outputs": [],
   "source": [
    "X = train_data[[\"Pclass\", \"Sex\", \"Age\", \"SibSp\", \"Parch\", \"Fare\", \"Embarked\"]]\n",
    "X = X.values\n",
    "from sklearn import preprocessing\n",
    "X = preprocessing.scale(X)"
   ]
  },
  {
   "cell_type": "code",
   "execution_count": 9,
   "id": "f1fadbb8",
   "metadata": {
    "execution": {
     "iopub.execute_input": "2023-06-01T17:30:44.629000Z",
     "iopub.status.busy": "2023-06-01T17:30:44.628177Z",
     "iopub.status.idle": "2023-06-01T17:30:44.635201Z",
     "shell.execute_reply": "2023-06-01T17:30:44.634336Z"
    },
    "papermill": {
     "duration": 0.018943,
     "end_time": "2023-06-01T17:30:44.637624",
     "exception": false,
     "start_time": "2023-06-01T17:30:44.618681",
     "status": "completed"
    },
    "tags": []
   },
   "outputs": [],
   "source": [
    "y = train_data[[\"Survived\"]]\n",
    "y = y.values"
   ]
  },
  {
   "cell_type": "code",
   "execution_count": 10,
   "id": "35de17ec",
   "metadata": {
    "execution": {
     "iopub.execute_input": "2023-06-01T17:30:44.654278Z",
     "iopub.status.busy": "2023-06-01T17:30:44.653433Z",
     "iopub.status.idle": "2023-06-01T17:30:44.659678Z",
     "shell.execute_reply": "2023-06-01T17:30:44.658853Z"
    },
    "papermill": {
     "duration": 0.017662,
     "end_time": "2023-06-01T17:30:44.662046",
     "exception": false,
     "start_time": "2023-06-01T17:30:44.644384",
     "status": "completed"
    },
    "tags": []
   },
   "outputs": [],
   "source": [
    "X_train, X_test, y_train, y_test = train_test_split(X, y,random_state=1, test_size=0.3)"
   ]
  },
  {
   "cell_type": "code",
   "execution_count": 11,
   "id": "abc16074",
   "metadata": {
    "execution": {
     "iopub.execute_input": "2023-06-01T17:30:44.677717Z",
     "iopub.status.busy": "2023-06-01T17:30:44.676898Z",
     "iopub.status.idle": "2023-06-01T17:30:46.695093Z",
     "shell.execute_reply": "2023-06-01T17:30:46.692626Z"
    },
    "papermill": {
     "duration": 2.031338,
     "end_time": "2023-06-01T17:30:46.700014",
     "exception": false,
     "start_time": "2023-06-01T17:30:44.668676",
     "status": "completed"
    },
    "tags": []
   },
   "outputs": [
    {
     "name": "stderr",
     "output_type": "stream",
     "text": [
      "/opt/conda/lib/python3.10/site-packages/sklearn/neural_network/_multilayer_perceptron.py:1098: DataConversionWarning: A column-vector y was passed when a 1d array was expected. Please change the shape of y to (n_samples, ), for example using ravel().\n",
      "  y = column_or_1d(y, warn=True)\n"
     ]
    },
    {
     "name": "stdout",
     "output_type": "stream",
     "text": [
      "The Score with  0.7910447761194029\n"
     ]
    }
   ],
   "source": [
    "reg = MLPClassifier(hidden_layer_sizes=(64),activation=\"relu\", solver=\"sgd\" ,random_state=1, max_iter=1000).fit(X_train, y_train)\n",
    "print(\"The Score with \", reg.score(X_test, y_test))"
   ]
  },
  {
   "cell_type": "code",
   "execution_count": 12,
   "id": "40c949ab",
   "metadata": {
    "execution": {
     "iopub.execute_input": "2023-06-01T17:30:46.729323Z",
     "iopub.status.busy": "2023-06-01T17:30:46.728245Z",
     "iopub.status.idle": "2023-06-01T17:30:46.784296Z",
     "shell.execute_reply": "2023-06-01T17:30:46.782779Z"
    },
    "papermill": {
     "duration": 0.07532,
     "end_time": "2023-06-01T17:30:46.788954",
     "exception": false,
     "start_time": "2023-06-01T17:30:46.713634",
     "status": "completed"
    },
    "tags": []
   },
   "outputs": [
    {
     "name": "stdout",
     "output_type": "stream",
     "text": [
      "[0 0 0 0 1 0 1 0 1 0 0 0 1 0 1 1 0 0 0 1 0 0 1 1 1 0 1 0 0 0 0 0 0 0 0 0 1\n",
      " 1 0 0 0 0 0 1 1 0 0 0 1 0 0 0 1 1 0 0 0 0 0 1 0 0 0 1 1 1 1 0 0 1 1 0 1 0\n",
      " 1 0 0 1 0 1 0 0 0 0 0 0 1 1 1 1 1 0 1 0 0 0 1 0 1 0 1 0 0 0 1 0 0 0 0 0 0\n",
      " 1 1 1 1 0 0 1 0 1 1 0 1 0 0 1 0 0 0 0 0 0 1 0 0 0 0 0 1 0 0 1 0 0 0 0 0 0\n",
      " 0 0 1 0 0 0 0 0 1 1 0 1 1 0 1 0 0 0 0 0 1 1 0 0 0 0 0 1 1 0 1 1 0 0 1 0 1\n",
      " 0 1 0 0 0 0 0 0 0 1 0 1 1 0 1 1 0 0 1 0 0 1 0 1 0 0 0 0 1 0 0 1 0 1 0 1 0\n",
      " 1 0 1 1 0 1 0 0 0 1 0 0 0 0 0 0 1 1 1 1 0 0 0 0 1 0 1 1 1 0 0 0 0 0 0 0 1\n",
      " 0 0 0 1 1 0 0 0 0 1 0 0 0 1 1 0 1 0 0 0 0 1 0 1 1 1 0 0 0 0 0 0 1 0 0 0 0\n",
      " 1 0 0 0 0 0 0 0 1 1 0 0 0 0 0 0 0 1 1 1 0 0 0 0 0 0 0 0 1 0 1 0 0 0 1 0 0\n",
      " 1 0 0 0 0 0 0 0 0 0 1 0 1 0 1 0 1 1 0 0 0 1 0 1 0 0 0 0 1 1 0 1 0 0 1 1 0\n",
      " 0 1 0 0 1 1 0 0 0 0 0 0 1 1 0 1 0 0 0 0 0 1 0 0 0 1 0 1 0 0 1 0 1 1 0 0 0\n",
      " 0 1 1 1 1 1 0 1 0 0 0]\n"
     ]
    },
    {
     "name": "stderr",
     "output_type": "stream",
     "text": [
      "/tmp/ipykernel_20/54179973.py:8: SettingWithCopyWarning: \n",
      "A value is trying to be set on a copy of a slice from a DataFrame.\n",
      "Try using .loc[row_indexer,col_indexer] = value instead\n",
      "\n",
      "See the caveats in the documentation: https://pandas.pydata.org/pandas-docs/stable/user_guide/indexing.html#returning-a-view-versus-a-copy\n",
      "  X_test[\"Age\"] = X_test[\"Age\"].fillna(X_test[\"Age\"].median())\n",
      "/tmp/ipykernel_20/54179973.py:9: SettingWithCopyWarning: \n",
      "A value is trying to be set on a copy of a slice from a DataFrame.\n",
      "Try using .loc[row_indexer,col_indexer] = value instead\n",
      "\n",
      "See the caveats in the documentation: https://pandas.pydata.org/pandas-docs/stable/user_guide/indexing.html#returning-a-view-versus-a-copy\n",
      "  X_test[\"Fare\"] = X_test[\"Fare\"].fillna(X_test[\"Fare\"].mean())\n"
     ]
    }
   ],
   "source": [
    "test = pd.read_csv(\"/kaggle/input/titanic/test.csv\")\n",
    "test[\"Sex\"] = le.fit_transform(test[\"Sex\"])\n",
    "test[\"Embarked\"] = test[\"Embarked\"].fillna(\"S\")\n",
    "test[\"Embarked\"] = le.fit_transform(test[\"Embarked\"])\n",
    "test[\"Name\"] = le.fit_transform(test[\"Name\"])\n",
    "#test[\"Age\"] = test[\"Age\"].fillna(test[\"Age\"].median()) \n",
    "X_test = test[[\"Pclass\",\"Sex\",\"Age\",\"SibSp\",\"Parch\",\"Fare\",\"Embarked\"]]\n",
    "X_test[\"Age\"] = X_test[\"Age\"].fillna(X_test[\"Age\"].median())\n",
    "X_test[\"Fare\"] = X_test[\"Fare\"].fillna(X_test[\"Fare\"].mean())\n",
    "X_test = X_test.values\n",
    "X_test = preprocessing.scale(X_test)\n",
    "X_test.shape\n",
    "predictions = reg.predict(X_test)\n",
    "print(predictions)"
   ]
  },
  {
   "cell_type": "code",
   "execution_count": 13,
   "id": "d3761524",
   "metadata": {
    "execution": {
     "iopub.execute_input": "2023-06-01T17:30:46.819058Z",
     "iopub.status.busy": "2023-06-01T17:30:46.818177Z",
     "iopub.status.idle": "2023-06-01T17:30:46.844010Z",
     "shell.execute_reply": "2023-06-01T17:30:46.842290Z"
    },
    "papermill": {
     "duration": 0.046237,
     "end_time": "2023-06-01T17:30:46.849308",
     "exception": false,
     "start_time": "2023-06-01T17:30:46.803071",
     "status": "completed"
    },
    "tags": []
   },
   "outputs": [],
   "source": [
    "PassengerId = test[\"PassengerId\"]\n",
    "evaluation = PassengerId.to_frame()\n",
    "evaluation[\"Survived\"] = predictions\n",
    "evaluation.to_csv(\"evaluation_submission.csv\", index = False)\n"
   ]
  }
 ],
 "metadata": {
  "kernelspec": {
   "display_name": "Python 3",
   "language": "python",
   "name": "python3"
  },
  "language_info": {
   "codemirror_mode": {
    "name": "ipython",
    "version": 3
   },
   "file_extension": ".py",
   "mimetype": "text/x-python",
   "name": "python",
   "nbconvert_exporter": "python",
   "pygments_lexer": "ipython3",
   "version": "3.10.10"
  },
  "papermill": {
   "default_parameters": {},
   "duration": 17.486748,
   "end_time": "2023-06-01T17:30:47.895379",
   "environment_variables": {},
   "exception": null,
   "input_path": "__notebook__.ipynb",
   "output_path": "__notebook__.ipynb",
   "parameters": {},
   "start_time": "2023-06-01T17:30:30.408631",
   "version": "2.4.0"
  }
 },
 "nbformat": 4,
 "nbformat_minor": 5
}
